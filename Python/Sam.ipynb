{
 "cells": [
  {
   "cell_type": "code",
   "execution_count": 2,
   "id": "763ce37e",
   "metadata": {},
   "outputs": [
    {
     "name": "stdout",
     "output_type": "stream",
     "text": [
      "Hello, Hari\n"
     ]
    }
   ],
   "source": [
    "def greet(name):\n",
    "    return f\"Hello, {name}\"\n",
    "\n",
    "message = greet(\"Hari\")\n",
    "print(message)"
   ]
  },
  {
   "cell_type": "code",
   "execution_count": 3,
   "id": "753a90bc",
   "metadata": {},
   "outputs": [
    {
     "name": "stdout",
     "output_type": "stream",
     "text": [
      "45\n"
     ]
    }
   ],
   "source": [
    "def sum(*args):\n",
    "    total = 0\n",
    "    for n in args:\n",
    "        total += n\n",
    "    return total\n",
    "\n",
    "res = sum(1,2,3,4,5,6,7,8,9)\n",
    "print(res)"
   ]
  },
  {
   "cell_type": "code",
   "execution_count": 4,
   "id": "be029f7a",
   "metadata": {},
   "outputs": [
    {
     "name": "stdout",
     "output_type": "stream",
     "text": [
      "name : hari\n",
      "age : 20\n",
      "city : Cuddalore\n"
     ]
    }
   ],
   "source": [
    "def display_info(**kargs):\n",
    "    for key, value in kargs.items():\n",
    "        print(f\"{key} : {value}\")\n",
    "\n",
    "display_info(name=\"hari\", age=20, city=\"Cuddalore\")"
   ]
  },
  {
   "cell_type": "code",
   "execution_count": 5,
   "id": "6038b3d9",
   "metadata": {},
   "outputs": [],
   "source": [
    "def apply_operation(operation, x, y):\n",
    "    return operation(x, y)\n",
    "\n",
    "def add(a, b):\n",
    "    return a + b\n",
    "\n",
    "def multiply(a, b):\n",
    "    return a * b\n",
    "\n",
    "res1 = apply_operation(add, 2, 3)\n",
    "res2 = apply_operation(multiply, 3, 5)"
   ]
  },
  {
   "cell_type": "code",
   "execution_count": 6,
   "id": "478adfcf",
   "metadata": {},
   "outputs": [
    {
     "name": "stdout",
     "output_type": "stream",
     "text": [
      "8\n"
     ]
    }
   ],
   "source": [
    "add = lambda x, y : x + y\n",
    "\n",
    "print(add(5, 3))"
   ]
  },
  {
   "cell_type": "code",
   "execution_count": 7,
   "id": "42543636",
   "metadata": {},
   "outputs": [
    {
     "name": "stdout",
     "output_type": "stream",
     "text": [
      "[1, 4, 9, 16, 25]\n"
     ]
    }
   ],
   "source": [
    "numbers = [1, 2, 3, 4, 5]\n",
    "squares = list(map(lambda x : x ** 2, numbers))\n",
    "print(squares)"
   ]
  },
  {
   "cell_type": "code",
   "execution_count": 8,
   "id": "e47d80e3",
   "metadata": {},
   "outputs": [
    {
     "name": "stdout",
     "output_type": "stream",
     "text": [
      "[('hari', 18), ('john', 23), ('Alias', 24)]\n"
     ]
    }
   ],
   "source": [
    "students = [\n",
    "    (\"john\", 23),\n",
    "    (\"hari\", 18),\n",
    "    (\"Alias\", 24)\n",
    "]\n",
    "\n",
    "students.sort(key = lambda x : x[1])\n",
    "print(students)"
   ]
  },
  {
   "cell_type": "code",
   "execution_count": 9,
   "id": "611be769",
   "metadata": {},
   "outputs": [
    {
     "name": "stdout",
     "output_type": "stream",
     "text": [
      "Hello  Guest\n",
      "Hello  Hari\n"
     ]
    }
   ],
   "source": [
    "def greet(name = \"Guest\"):\n",
    "    print(\"Hello \", name)\n",
    "\n",
    "greet()\n",
    "greet(\"Hari\")"
   ]
  },
  {
   "cell_type": "code",
   "execution_count": 10,
   "id": "56a347a6",
   "metadata": {},
   "outputs": [
    {
     "name": "stdout",
     "output_type": "stream",
     "text": [
      "HELLO GOOD MORNING\n"
     ]
    }
   ],
   "source": [
    "s1 = \"Hello Good Morning\"\n",
    "s2 = lambda str : str.upper()\n",
    "\n",
    "print(s2(s1))"
   ]
  },
  {
   "cell_type": "code",
   "execution_count": 11,
   "id": "65356513",
   "metadata": {},
   "outputs": [
    {
     "name": "stdout",
     "output_type": "stream",
     "text": [
      "name is Alice and age is 25\n"
     ]
    }
   ],
   "source": [
    "def get_details():\n",
    "    name = \"Alice\"\n",
    "    age = 25\n",
    "    return name, age\n",
    "\n",
    "n , a = get_details()\n",
    "\n",
    "print(f\"name is {n} and age is {a}\")"
   ]
  },
  {
   "cell_type": "code",
   "execution_count": 12,
   "id": "0d096a51",
   "metadata": {},
   "outputs": [
    {
     "name": "stdout",
     "output_type": "stream",
     "text": [
      "Positive\n",
      "Negative\n",
      "Zero\n"
     ]
    }
   ],
   "source": [
    "n = lambda x : \"Positive\" if x > 0 else \"Negative\" if x < 0 else \"Zero\"\n",
    "\n",
    "print(n(2))\n",
    "print(n(-3))\n",
    "print(n(0))"
   ]
  },
  {
   "cell_type": "code",
   "execution_count": 13,
   "id": "ce45cb8f",
   "metadata": {},
   "outputs": [
    {
     "name": "stdout",
     "output_type": "stream",
     "text": [
      "Odd\n",
      "Odd\n"
     ]
    }
   ],
   "source": [
    "check = lambda x : \"Even\" if x % 2 == 0 else \"Odd\"\n",
    "\n",
    "print(check(3))\n",
    "print(check(7))"
   ]
  },
  {
   "cell_type": "code",
   "execution_count": 14,
   "id": "ad653282",
   "metadata": {},
   "outputs": [
    {
     "name": "stdout",
     "output_type": "stream",
     "text": [
      "10\n",
      "20\n",
      "30\n",
      "40\n"
     ]
    }
   ],
   "source": [
    "li = [lambda args = x : args * 10 for x in range(1, 5)]\n",
    "for i in li:\n",
    "    print(i())"
   ]
  },
  {
   "cell_type": "code",
   "execution_count": 15,
   "id": "2483c887",
   "metadata": {},
   "outputs": [
    {
     "name": "stdout",
     "output_type": "stream",
     "text": [
      "(7, 12)\n"
     ]
    }
   ],
   "source": [
    "calc = lambda x, y : (x + y, x * y)\n",
    "\n",
    "res = calc(3, 4)\n",
    "print(res)"
   ]
  },
  {
   "cell_type": "code",
   "execution_count": 16,
   "id": "cd287b0d",
   "metadata": {},
   "outputs": [
    {
     "name": "stdout",
     "output_type": "stream",
     "text": [
      "[2, 4]\n"
     ]
    }
   ],
   "source": [
    "n = [1, 2, 3, 4, 5]\n",
    "\n",
    "even = filter(lambda x : x % 2 == 0, n)\n",
    "print(list(even))"
   ]
  },
  {
   "cell_type": "code",
   "execution_count": 17,
   "id": "90f06fe4",
   "metadata": {},
   "outputs": [
    {
     "name": "stdout",
     "output_type": "stream",
     "text": [
      "[2, 4, 6, 8, 10]\n"
     ]
    }
   ],
   "source": [
    "a = [1, 2, 3, 4, 5]\n",
    "b = map(lambda x : x * 2, a)\n",
    "print(list(b))"
   ]
  },
  {
   "cell_type": "code",
   "execution_count": 18,
   "id": "38b067fa",
   "metadata": {},
   "outputs": [
    {
     "name": "stdout",
     "output_type": "stream",
     "text": [
      "120\n"
     ]
    }
   ],
   "source": [
    "from functools import reduce\n",
    "\n",
    "a = [1, 2, 3, 4, 5]\n",
    "b = reduce(lambda x, y : x * y, a)\n",
    "\n",
    "print(b)"
   ]
  },
  {
   "cell_type": "code",
   "execution_count": 19,
   "id": "2a1e8861",
   "metadata": {},
   "outputs": [
    {
     "name": "stdout",
     "output_type": "stream",
     "text": [
      "My name is Revature and I am 22 years old\n"
     ]
    }
   ],
   "source": [
    "a = \"Revature\"\n",
    "b = 22\n",
    "\n",
    "msg = \"My name is {0} and I am {1} years old\".format(a, b)\n",
    "print(msg)\n"
   ]
  },
  {
   "cell_type": "code",
   "execution_count": 20,
   "id": "f9b18e79",
   "metadata": {},
   "outputs": [
    {
     "name": "stdout",
     "output_type": "stream",
     "text": [
      "This article is written in Python\n",
      "Hi ! My name is User and i am 10 years old\n"
     ]
    }
   ],
   "source": [
    "a = \"Python\"\n",
    "\n",
    "print(\"This article is written in {}\".format(a))\n",
    "\n",
    "print(\"Hi ! My name is {} and i am {} years old\".format(\"User\", 10))\n"
   ]
  },
  {
   "cell_type": "code",
   "execution_count": 21,
   "id": "4ff84d7b",
   "metadata": {},
   "outputs": [
    {
     "name": "stdout",
     "output_type": "stream",
     "text": [
      "Hello, My name is om and I'm 22 Old\n"
     ]
    }
   ],
   "source": [
    "#fString\n",
    "\n",
    "name = 'om'\n",
    "age = 22\n",
    "\n",
    "print(f\"Hello, My name is {name} and I'm {age} Old\")"
   ]
  }
 ],
 "metadata": {
  "kernelspec": {
   "display_name": "Python 3",
   "language": "python",
   "name": "python3"
  },
  "language_info": {
   "codemirror_mode": {
    "name": "ipython",
    "version": 3
   },
   "file_extension": ".py",
   "mimetype": "text/x-python",
   "name": "python",
   "nbconvert_exporter": "python",
   "pygments_lexer": "ipython3",
   "version": "3.13.7"
  }
 },
 "nbformat": 4,
 "nbformat_minor": 5
}
